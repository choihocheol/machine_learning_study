{
 "cells": [
  {
   "cell_type": "code",
   "execution_count": 1,
   "metadata": {},
   "outputs": [],
   "source": [
    "import tensorflow as tf\n",
    "import numpy as np"
   ]
  },
  {
   "cell_type": "code",
   "execution_count": 2,
   "metadata": {},
   "outputs": [],
   "source": [
    "a1 = [0.2, 3, 2]\n",
    "a2 = [-1, 5, 0.2]\n",
    "a3 = [0.5, 2, -0.1]"
   ]
  },
  {
   "cell_type": "markdown",
   "metadata": {},
   "source": [
    "-----------------------\n",
    "# One To One\n",
    "<img src=\"./source/one_to_one.png\" width=\"150\">"
   ]
  },
  {
   "cell_type": "code",
   "execution_count": 3,
   "metadata": {},
   "outputs": [
    {
     "name": "stdout",
     "output_type": "stream",
     "text": [
      "x_data: [[[0.2 3.  2. ]]], shape: (1, 1, 3)\n",
      "outputs: [[[-0.38929304  0.96568   ]]], shape: (1, 1, 2)\n",
      "states: [[-0.38929304  0.96568   ]], shape: (1, 2)\n"
     ]
    }
   ],
   "source": [
    "x_data = np.array([[a1]], dtype=np.float32)\n",
    "\n",
    "output_dim = 2\n",
    "rnn = tf.keras.layers.SimpleRNN(units=output_dim, return_sequences=True, return_state=True)\n",
    "# lstm = tf.keras.layers.LSTM(units=output_dim, return_sequences=True, return_state=True)\n",
    "# gru = tf.keras.layers.GRU(units=output_dim, return_sequences=True, return_state=True)\n",
    "outputs, states = rnn(x_data)\n",
    "\n",
    "print('x_data: {}, shape: {}'.format(x_data, x_data.shape))\n",
    "print('outputs: {}, shape: {}'.format(outputs, outputs.shape))\n",
    "print('states: {}, shape: {}'.format(states, states.shape))"
   ]
  },
  {
   "cell_type": "markdown",
   "metadata": {},
   "source": [
    "----------------------\n",
    "# Many To Many\n",
    "<img src=\"./source/many_to_many.png\" width=\"550px\">"
   ]
  },
  {
   "cell_type": "code",
   "execution_count": 4,
   "metadata": {},
   "outputs": [
    {
     "name": "stdout",
     "output_type": "stream",
     "text": [
      "x_data: [[[ 0.2  3.   2. ]\n",
      "  [-1.   5.   0.2]\n",
      "  [ 0.5  2.  -0.1]]], shape: (1, 3, 3)\n",
      "outputs: [[[-0.9512081  -0.9824984 ]\n",
      "  [-0.99997103 -0.9999817 ]\n",
      "  [-0.97390765 -0.9964803 ]]], shape: (1, 3, 2)\n",
      "states: [[-0.97390765 -0.9964803 ]], shape: (1, 2)\n"
     ]
    }
   ],
   "source": [
    "x_data = np.array([[a1, a2, a3]], dtype=np.float32)\n",
    "\n",
    "output_dim = 2\n",
    "rnn = tf.keras.layers.SimpleRNN(units=output_dim, return_sequences=True, return_state=True)\n",
    "# lstm = tf.keras.layers.LSTM(units=output_dim, return_sequences=True, return_state=True)\n",
    "# gru = tf.keras.layers.GRU(units=output_dim, return_sequences=True, return_state=True)\n",
    "outputs, states = rnn(x_data)\n",
    "\n",
    "print('x_data: {}, shape: {}'.format(x_data, x_data.shape))\n",
    "print('outputs: {}, shape: {}'.format(outputs, outputs.shape))\n",
    "print('states: {}, shape: {}'.format(states, states.shape))"
   ]
  },
  {
   "cell_type": "markdown",
   "metadata": {},
   "source": [
    "-----------------------------\n",
    "# Many To One\n",
    "<img src=\"./source/many_to_one.png\" width=\"250\">"
   ]
  },
  {
   "cell_type": "code",
   "execution_count": 5,
   "metadata": {},
   "outputs": [
    {
     "name": "stdout",
     "output_type": "stream",
     "text": [
      "x_data: [[[ 0.2  3.   2. ]\n",
      "  [-1.   5.   0.2]\n",
      "  [ 0.5  2.  -0.1]]], shape: (1, 3, 3)\n",
      "outputs: [[-0.36172506  0.8333647 ]], shape: (1, 2)\n",
      "states: [[-0.36172506  0.8333647 ]], shape: (1, 2)\n"
     ]
    }
   ],
   "source": [
    "x_data = np.array([[a1, a2, a3]], dtype=np.float32)\n",
    "\n",
    "output_dim = 2\n",
    "rnn = tf.keras.layers.SimpleRNN(units=output_dim, return_sequences=False, return_state=True)\n",
    "# lstm = tf.keras.layers.LSTM(units=output_dim, return_sequences=True, return_state=True)\n",
    "# gru = tf.keras.layers.GRU(units=output_dim, return_sequences=True, return_state=True)\n",
    "outputs, states = rnn(x_data)\n",
    "\n",
    "print('x_data: {}, shape: {}'.format(x_data, x_data.shape))\n",
    "print('outputs: {}, shape: {}'.format(outputs, outputs.shape))\n",
    "print('states: {}, shape: {}'.format(states, states.shape))"
   ]
  }
 ],
 "metadata": {
  "kernelspec": {
   "display_name": "Python 3",
   "language": "python",
   "name": "python3"
  },
  "language_info": {
   "codemirror_mode": {
    "name": "ipython",
    "version": 3
   },
   "file_extension": ".py",
   "mimetype": "text/x-python",
   "name": "python",
   "nbconvert_exporter": "python",
   "pygments_lexer": "ipython3",
   "version": "3.7.6"
  }
 },
 "nbformat": 4,
 "nbformat_minor": 4
}

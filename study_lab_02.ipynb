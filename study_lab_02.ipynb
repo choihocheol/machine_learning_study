{
 "cells": [
  {
   "cell_type": "code",
   "execution_count": 1,
   "metadata": {},
   "outputs": [],
   "source": [
    "import tensorflow as tf\n",
    "import numpy as np\n",
    "import matplotlib.pyplot as plt"
   ]
  },
  {
   "cell_type": "markdown",
   "metadata": {},
   "source": [
    "# 특징(feature)이 하나일때의 노드\n",
    "\n",
    "python class에서<br>\n",
    "\\__init__ => 객체 생성시 변수 초기화를 위해 실행됨<br>\n",
    "\\__call__ => 인스턴스 실행 시 실행됨"
   ]
  },
  {
   "cell_type": "code",
   "execution_count": 2,
   "metadata": {},
   "outputs": [],
   "source": [
    "class OneFeatureNode:\n",
    "    def __init__(self):\n",
    "        self.w = tf.Variable([[0.1]])\n",
    "        self.b = tf.Variable([[0.5]])\n",
    "        \n",
    "    def __call__(self, x):\n",
    "        return self.get_output(x)\n",
    "    \n",
    "    def get_output(self, x):\n",
    "        output = tf.matmul(x, self.w)\n",
    "        print('행렬곱 결과:', output.numpy())\n",
    "        output = tf.add(output, self.b)\n",
    "        print('행렬합 결과:', output.numpy())\n",
    "        output = tf.math.sigmoid(output)\n",
    "        print('시그모이드 후 결과:', output.numpy())\n",
    "        return output"
   ]
  },
  {
   "cell_type": "code",
   "execution_count": 3,
   "metadata": {},
   "outputs": [
    {
     "name": "stdout",
     "output_type": "stream",
     "text": [
      "행렬곱 결과: [[0.1]]\n",
      "행렬합 결과: [[0.6]]\n",
      "시그모이드 후 결과: [[0.6456563]]\n"
     ]
    },
    {
     "data": {
      "text/plain": [
       "<tf.Tensor: shape=(1, 1), dtype=float32, numpy=array([[0.6456563]], dtype=float32)>"
      ]
     },
     "execution_count": 3,
     "metadata": {},
     "output_type": "execute_result"
    }
   ],
   "source": [
    "x = tf.constant([[1.0]])\n",
    "\n",
    "one_feature_node = OneFeatureNode()\n",
    "one_feature_node(x)"
   ]
  },
  {
   "cell_type": "markdown",
   "metadata": {},
   "source": [
    "# 특징(feature)이 두개일때의 노드"
   ]
  },
  {
   "cell_type": "code",
   "execution_count": 4,
   "metadata": {},
   "outputs": [],
   "source": [
    "class TwoFeaturesNode:\n",
    "    def __init__(self):\n",
    "        self.w = tf.Variable([[0.1], [0.2]])\n",
    "        self.b = tf.Variable([[0.5]])\n",
    "        \n",
    "    def __call__(self, x):\n",
    "        return self.get_output(x)\n",
    "    \n",
    "    def get_output(self, x):\n",
    "        output = tf.matmul(x, self.w)\n",
    "        print('행렬곱 결과:', output.numpy())\n",
    "        output = tf.add(output, self.b)\n",
    "        print('행렬합 결과:', output.numpy())\n",
    "        output = tf.math.sigmoid(output)\n",
    "        print('시그모이드 후 결과:', output.numpy())\n",
    "        return output"
   ]
  },
  {
   "cell_type": "code",
   "execution_count": 5,
   "metadata": {},
   "outputs": [
    {
     "name": "stdout",
     "output_type": "stream",
     "text": [
      "행렬곱 결과: [[0.5]]\n",
      "행렬합 결과: [[1.]]\n",
      "시그모이드 후 결과: [[0.7310586]]\n"
     ]
    },
    {
     "data": {
      "text/plain": [
       "<tf.Tensor: shape=(1, 1), dtype=float32, numpy=array([[0.7310586]], dtype=float32)>"
      ]
     },
     "execution_count": 5,
     "metadata": {},
     "output_type": "execute_result"
    }
   ],
   "source": [
    "x = tf.constant([[1.0, 2.0]])\n",
    "two_features_node = TwoFeaturesNode()\n",
    "two_features_node(x)"
   ]
  },
  {
   "cell_type": "markdown",
   "metadata": {},
   "source": [
    "# Input이 n개인 특징(feature)이 2개인 노드"
   ]
  },
  {
   "cell_type": "code",
   "execution_count": 6,
   "metadata": {},
   "outputs": [
    {
     "name": "stdout",
     "output_type": "stream",
     "text": [
      "행렬곱 결과: [[0.5]\n",
      " [0.8]\n",
      " [1.4]]\n",
      "행렬합 결과: [[1. ]\n",
      " [1.3]\n",
      " [1.9]]\n",
      "시그모이드 후 결과: [[0.7310586]\n",
      " [0.785835 ]\n",
      " [0.8698916]]\n"
     ]
    },
    {
     "data": {
      "text/plain": [
       "<tf.Tensor: shape=(3, 1), dtype=float32, numpy=\n",
       "array([[0.7310586],\n",
       "       [0.785835 ],\n",
       "       [0.8698916]], dtype=float32)>"
      ]
     },
     "execution_count": 6,
     "metadata": {},
     "output_type": "execute_result"
    }
   ],
   "source": [
    "x = ([[1.0, 2.0], [2.0, 3.0], [4.0, 5.0]])\n",
    "two_features_node = TwoFeaturesNode()\n",
    "two_features_node(x)"
   ]
  }
 ],
 "metadata": {
  "kernelspec": {
   "display_name": "Python 3",
   "language": "python",
   "name": "python3"
  },
  "language_info": {
   "codemirror_mode": {
    "name": "ipython",
    "version": 3
   },
   "file_extension": ".py",
   "mimetype": "text/x-python",
   "name": "python",
   "nbconvert_exporter": "python",
   "pygments_lexer": "ipython3",
   "version": "3.7.6"
  }
 },
 "nbformat": 4,
 "nbformat_minor": 4
}

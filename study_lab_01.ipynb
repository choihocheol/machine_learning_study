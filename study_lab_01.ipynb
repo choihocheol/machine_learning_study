{
 "cells": [
  {
   "cell_type": "code",
   "execution_count": 1,
   "metadata": {},
   "outputs": [],
   "source": [
    "import tensorflow as tf\n",
    "import numpy as np\n",
    "import matplotlib.pyplot as plt"
   ]
  },
  {
   "cell_type": "markdown",
   "metadata": {},
   "source": [
    "# 데이터 시각화 (학습 전)"
   ]
  },
  {
   "cell_type": "code",
   "execution_count": 2,
   "metadata": {},
   "outputs": [
    {
     "data": {
      "image/png": "[encoded data removed]",
      "text/plain": [
       "<Figure size 432x288 with 1 Axes>"
      ]
     },
     "metadata": {
      "needs_background": "light"
     },
     "output_type": "display_data"
    }
   ],
   "source": [
    "x_data = [1, 2, 3, 4, 5]\n",
    "y_data = [1, 2, 3, 4, 5]\n",
    "\n",
    "W = tf.Variable(2.)\n",
    "b = tf.Variable(.5)\n",
    "\n",
    "hypothesis = W * x_data + b\n",
    "\n",
    "plt.plot(x_data, y_data, 'bo')\n",
    "plt.plot(x_data, hypothesis, 'r-')\n",
    "plt.ylim(0, 8)\n",
    "plt.show()"
   ]
  },
  {
   "cell_type": "markdown",
   "metadata": {},
   "source": [
    "# Linear Regression 학습"
   ]
  },
  {
   "cell_type": "code",
   "execution_count": 3,
   "metadata": {},
   "outputs": [
    {
     "name": "stdout",
     "output_type": "stream",
     "text": [
      "    0|   1.97500|   0.49300|  14.25000\n",
      "   10|   1.75535|   0.43141|   8.83005\n",
      "   20|   1.58252|   0.38279|   5.47265\n",
      "   30|   1.44654|   0.34437|   3.39290\n",
      "   40|   1.33955|   0.31399|   2.10458\n",
      "   50|   1.25538|   0.28994|   1.30652\n",
      "   60|   1.18918|   0.27086|   0.81214\n",
      "   70|   1.13712|   0.25570|   0.50588\n",
      "   80|   1.09618|   0.24363|   0.31615\n",
      "   90|   1.06400|   0.23399|   0.19860\n",
      "  100|   1.03871|   0.22625|   0.12577\n",
      "  110|   1.01885|   0.22002|   0.08064\n",
      "  120|   1.00325|   0.21498|   0.05266\n",
      "  130|   0.99102|   0.21087|   0.03531\n",
      "  140|   0.98143|   0.20749|   0.02455\n",
      "  150|   0.97392|   0.20469|   0.01786\n",
      "  160|   0.96805|   0.20235|   0.01370\n"
     ]
    }
   ],
   "source": [
    "x_data = [1, 2, 3, 4, 5]\n",
    "y_data = [1, 2, 3, 4, 5]\n",
    "\n",
    "W = tf.Variable(2.)\n",
    "b = tf.Variable(.5)\n",
    "\n",
    "learning_rate = 0.001\n",
    "epoch = 170\n",
    "for step in range(epoch):\n",
    "    with tf.GradientTape() as tape:\n",
    "        hypothesis = W * x_data + b\n",
    "        cost = tf.reduce_mean(tf.square(hypothesis - y_data))\n",
    "    W_grad, b_grad = tape.gradient(cost, [W, b])\n",
    "    W.assign_sub(learning_rate * W_grad)\n",
    "    b.assign_sub(learning_rate * b_grad)\n",
    "    \n",
    "    if step % 10 == 0:\n",
    "        print(\"{:5}|{:10.5f}|{:10.5f}|{:10.5f}\".format(step, W.numpy(), b.numpy(), cost.numpy()))"
   ]
  },
  {
   "cell_type": "markdown",
   "metadata": {},
   "source": [
    "# 데이터 시각화 (학습 후)"
   ]
  },
  {
   "cell_type": "code",
   "execution_count": 4,
   "metadata": {},
   "outputs": [
    {
     "data": {
      "image/png": "[encoded data removed]",
      "text/plain": [
       "<Figure size 432x288 with 1 Axes>"
      ]
     },
     "metadata": {
      "needs_background": "light"
     },
     "output_type": "display_data"
    }
   ],
   "source": [
    "plt.plot(x_data, y_data, 'bo')\n",
    "plt.plot(x_data, hypothesis, 'r-')\n",
    "plt.ylim(0, 8)\n",
    "plt.show()"
   ]
  }
 ],
 "metadata": {
  "kernelspec": {
   "display_name": "Python 3",
   "language": "python",
   "name": "python3"
  },
  "language_info": {
   "codemirror_mode": {
    "name": "ipython",
    "version": 3
   },
   "file_extension": ".py",
   "mimetype": "text/x-python",
   "name": "python",
   "nbconvert_exporter": "python",
   "pygments_lexer": "ipython3",
   "version": "3.7.6"
  }
 },
 "nbformat": 4,
 "nbformat_minor": 4
}
